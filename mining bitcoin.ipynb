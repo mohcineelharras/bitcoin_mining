{
 "cells": [
  {
   "cell_type": "code",
   "execution_count": 1,
   "id": "dfb0e46d-b9c8-4c74-aefc-3601d6725f89",
   "metadata": {},
   "outputs": [],
   "source": [
    "import hashlib\n",
    "import time\n",
    "\n",
    "nonce_limit = 10000000\n",
    "zeroes = 6\n",
    "\n",
    "def mine(block_number, transactions, previous_hash):\n",
    "    for nonce in range(nonce_limit):\n",
    "        base_text = str(block_number) + transactions + previous_hash + str(nonce)\n",
    "        hash_try = hashlib.sha256(base_text.encode()).hexdigest()\n",
    "        if hash_try.startswith(\"0\"*zeroes):\n",
    "            \n",
    "            return hash_try,nonce\n",
    "    return -1,-1\n"
   ]
  },
  {
   "cell_type": "code",
   "execution_count": 2,
   "id": "28540a77-7727-48a1-bcb1-d0d5c093bb8e",
   "metadata": {
    "tags": []
   },
   "outputs": [
    {
     "name": "stdout",
     "output_type": "stream",
     "text": [
      "Found Hash With Nonce: 1786007\n",
      "New Hash is equal to: 0000009334a04a94ecddbaafda180c280eb0cbf7e6472cb41216ac2ee659e7d0\n",
      "Mining took: 1.3992657661437988 seconds\n"
     ]
    }
   ],
   "source": [
    "block_number = 24\n",
    "transactions=\"Dhaval->Bhavin->20,Mando->Cara->45\"\n",
    "previous_hash = \"0000000xa036944e29568d0cff17edbe038f81208fecf9a66be9a2b8321c6ec7\"\n",
    "\n",
    "start = time.time()\n",
    "\n",
    "new_hash,new_nonce = mine(block_number, transactions, previous_hash)\n",
    "\n",
    "total_time = str((time.time() - start))\n",
    "print(f\"Found Hash With Nonce: {new_nonce}\")\n",
    "print(f\"New Hash is equal to: {new_hash}\")\n",
    "print(f\"Mining took: {total_time} seconds\")"
   ]
  },
  {
   "cell_type": "code",
   "execution_count": null,
   "id": "5fb115a0-c279-431d-99fa-2ec86b6663ee",
   "metadata": {},
   "outputs": [],
   "source": []
  },
  {
   "cell_type": "code",
   "execution_count": null,
   "id": "2e3f7419-5e59-4453-86c5-a69ffaa8c858",
   "metadata": {},
   "outputs": [],
   "source": []
  },
  {
   "cell_type": "code",
   "execution_count": null,
   "id": "5d9999b1-a612-4990-9436-7de6807e3366",
   "metadata": {},
   "outputs": [],
   "source": []
  },
  {
   "cell_type": "code",
   "execution_count": null,
   "id": "edc83da1-3735-4435-8cba-011f8b7fe0c1",
   "metadata": {},
   "outputs": [],
   "source": []
  },
  {
   "cell_type": "code",
   "execution_count": null,
   "id": "06737d7b-7170-4f0d-ad3c-eb2259610017",
   "metadata": {},
   "outputs": [],
   "source": []
  }
 ],
 "metadata": {
  "kernelspec": {
   "display_name": "ml",
   "language": "python",
   "name": "ml"
  },
  "language_info": {
   "codemirror_mode": {
    "name": "ipython",
    "version": 3
   },
   "file_extension": ".py",
   "mimetype": "text/x-python",
   "name": "python",
   "nbconvert_exporter": "python",
   "pygments_lexer": "ipython3",
   "version": "3.8.12"
  },
  "toc-autonumbering": true
 },
 "nbformat": 4,
 "nbformat_minor": 5
}
