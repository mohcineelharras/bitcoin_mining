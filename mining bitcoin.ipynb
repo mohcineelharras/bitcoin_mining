{
 "cells": [
  {
   "cell_type": "markdown",
   "id": "09d2fc88-5b10-4b5a-aac0-953c9e0030e9",
   "metadata": {},
   "source": [
    "# Bitcoin Mining\n",
    "\n",
    "## Histoire\n",
    "\n",
    "\n",
    "Le white paper du bitcoin a été publié le 31 Octobre 2008 : https://bitcoin.org/bitcoin.pdf\n",
    "\n",
    "Ensuite le premier block dans l'histoire des cryptomonnaies a été écrit le 2009-01-09 à 03:54 : https://www.blockchain.com/btc/block/1 \n",
    "\n",
    "Le hash correspond à :\n",
    "00000000839a8e6886ab5951d76f411475428afc90947ee320161bbf18eb6048\n",
    "\n",
    "Ce block a été miné par Satoshi Nakamoto le(s) créateur(s) du bitcoin. Il contient une seule transaction et le mineur a été récompensé avec 50 btc.\n",
    "\n",
    "## Objectifs\n",
    "\n",
    "Le but du bitcoin tel que décrit dans le whitepaper est  de créer un système financier décentralisé appelé en anglais DEFI : DEcentralized FInance. \n",
    "\n",
    "Ce magnifique papier est intitulé : **Bitcoin: A Peer-to-Peer Electronic Cash System** \n",
    "\n",
    "Cependant, nous allons voir un peu plus loin que le bitcoin tel qu'il a été designé est utilisé aujourd'hui plutôt comme un asset qui permet de stocker de la valeur. Il est souvent appelé or digital.\n",
    "\n",
    "En comparaison avec l'or et le fameux incide boursier S&P 500, le bitcoin a de loin surpassé les 2, le tableau ci-dessous montre la différence entre les 3 :\n",
    "\n",
    "![](./roi_assets.png)\n",
    "\n",
    "\n",
    "## Définitions\n",
    "\n",
    "### Hash\n",
    "- **SHA-2** (Secure Hash Algorithm) est une famille de fonctions de hachage qui ont été conçues par la National Security Agency des États-Unis,Cette famille comporte la fonction de hashage **SHA256**\n",
    "\n",
    "- La fonction de Hashage est bijective, une sortie y correspond seulement à une entrée x unique\n",
    "\n",
    "\n",
    "-  **SHA256** prend en entrée \n",
    "    - Le numéro de block actuel\n",
    "    - les transactions qui ont été réalisées\n",
    "    - le résultat du hashage du block précedent (SHA256(block_precedent))\n",
    "    \n",
    "- Ensuite la fonction de hashage **SHA256** donne en sortie un nombre binaire composé de 256 bits, ce dernier est converti en un chiffre hexadécimal de taille 64\n",
    "\n",
    "### Proof of work\n",
    "\n",
    "Le proof of work est un concept qui a apparut la première fois \n",
    "\n",
    "\n",
    "## Qu'est ce que le minage ?\n",
    "\n",
    "Le minage consiste à participer à l'entretien et le maintien de la blockchain.\n",
    "Ce processus permet de créer des nouveaux BTC donnés comme récompense aux mineurs.\n",
    "Le processus consiste à mettre en concurrence des personnes qui cherchent à résoudre un problème de cryptographie.\n",
    "\n",
    "\n",
    "La difficulté était de 1 (8 zéro au début du hash en sortie)\n",
    "\n",
    "- Pour miner du bitcoin est de "
   ]
  },
  {
   "cell_type": "code",
   "execution_count": null,
   "id": "b336e4e5-b5f4-4e44-972f-208cb45826de",
   "metadata": {},
   "outputs": [],
   "source": []
  },
  {
   "cell_type": "code",
   "execution_count": null,
   "id": "dbfab997-823a-4173-9c7d-2b285b8479b4",
   "metadata": {},
   "outputs": [],
   "source": []
  },
  {
   "cell_type": "code",
   "execution_count": 41,
   "id": "dfb0e46d-b9c8-4c74-aefc-3601d6725f89",
   "metadata": {},
   "outputs": [],
   "source": [
    "import hashlib\n",
    "import time\n",
    "\n",
    "nonce_limit = 10000000\n",
    "zeroes = 6\n",
    "\n",
    "def mine(block_number, transactions, previous_hash):\n",
    "    for nonce in range(nonce_limit):\n",
    "        base_text = str(block_number) + transactions + previous_hash + str(nonce)\n",
    "        hash_try = hashlib.sha256(base_text.encode()).hexdigest()\n",
    "        if hash_try.startswith(\"0\"*zeroes):\n",
    "            \n",
    "            return hash_try,nonce\n",
    "    return -1\n"
   ]
  },
  {
   "cell_type": "code",
   "execution_count": null,
   "id": "2ea89d4e-09bf-486e-bd84-2b3d5dc48f8a",
   "metadata": {},
   "outputs": [],
   "source": []
  },
  {
   "cell_type": "code",
   "execution_count": 45,
   "id": "28540a77-7727-48a1-bcb1-d0d5c093bb8e",
   "metadata": {
    "tags": []
   },
   "outputs": [
    {
     "name": "stdout",
     "output_type": "stream",
     "text": [
      "Found Hash With Nonce: 1786007\n",
      "New Hash is equal to: 0000009334a04a94ecddbaafda180c280eb0cbf7e6472cb41216ac2ee659e7d0\n",
      "Mining took: 1.5101051330566406 seconds\n"
     ]
    }
   ],
   "source": [
    "block_number = 24\n",
    "transactions=\"Dhaval->Bhavin->20,Mando->Cara->45\"\n",
    "previous_hash = \"0000000xa036944e29568d0cff17edbe038f81208fecf9a66be9a2b8321c6ec7\"\n",
    "\n",
    "start = time.time()\n",
    "\n",
    "new_hash,new_nonce = mine(block_number, transactions, previous_hash)\n",
    "\n",
    "total_time = str((time.time() - start))\n",
    "print(f\"Found Hash With Nonce: {new_nonce}\")\n",
    "print(f\"New Hash is equal to: {new_hash}\")\n",
    "print(f\"Mining took: {total_time} seconds\")"
   ]
  },
  {
   "cell_type": "code",
   "execution_count": null,
   "id": "5fb115a0-c279-431d-99fa-2ec86b6663ee",
   "metadata": {},
   "outputs": [],
   "source": []
  },
  {
   "cell_type": "code",
   "execution_count": null,
   "id": "2e3f7419-5e59-4453-86c5-a69ffaa8c858",
   "metadata": {},
   "outputs": [],
   "source": []
  },
  {
   "cell_type": "code",
   "execution_count": null,
   "id": "5d9999b1-a612-4990-9436-7de6807e3366",
   "metadata": {},
   "outputs": [],
   "source": []
  },
  {
   "cell_type": "code",
   "execution_count": null,
   "id": "edc83da1-3735-4435-8cba-011f8b7fe0c1",
   "metadata": {},
   "outputs": [],
   "source": []
  },
  {
   "cell_type": "code",
   "execution_count": null,
   "id": "06737d7b-7170-4f0d-ad3c-eb2259610017",
   "metadata": {},
   "outputs": [],
   "source": []
  }
 ],
 "metadata": {
  "kernelspec": {
   "display_name": "ml",
   "language": "python",
   "name": "ml"
  },
  "language_info": {
   "codemirror_mode": {
    "name": "ipython",
    "version": 3
   },
   "file_extension": ".py",
   "mimetype": "text/x-python",
   "name": "python",
   "nbconvert_exporter": "python",
   "pygments_lexer": "ipython3",
   "version": "3.8.12"
  },
  "toc-autonumbering": true
 },
 "nbformat": 4,
 "nbformat_minor": 5
}
